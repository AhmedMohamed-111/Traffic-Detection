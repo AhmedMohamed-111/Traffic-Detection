{
 "cells": [
  {
   "cell_type": "code",
   "execution_count": 1,
   "id": "f9e8d87c",
   "metadata": {},
   "outputs": [
    {
     "name": "stdout",
     "output_type": "stream",
     "text": [
      "Collecting ultralytics\n",
      "  Downloading ultralytics-8.2.6-py3-none-any.whl (755 kB)\n",
      "     ------------------------------------ 755.0/755.0 kB 491.3 kB/s eta 0:00:00\n",
      "Collecting torch>=1.8.0\n",
      "  Downloading torch-2.3.0-cp39-cp39-win_amd64.whl (159.7 MB)\n",
      "     ------------------------------------ 159.7/159.7 MB 734.1 kB/s eta 0:00:00\n",
      "Collecting thop>=0.1.1\n",
      "  Downloading thop-0.1.1.post2209072238-py3-none-any.whl (15 kB)\n",
      "Requirement already satisfied: pyyaml>=5.3.1 in c:\\users\\ahmed\\anaconda3\\lib\\site-packages (from ultralytics) (6.0)\n",
      "Collecting py-cpuinfo\n",
      "  Downloading py_cpuinfo-9.0.0-py3-none-any.whl (22 kB)\n",
      "Requirement already satisfied: matplotlib>=3.3.0 in c:\\users\\ahmed\\anaconda3\\lib\\site-packages (from ultralytics) (3.5.2)\n",
      "Requirement already satisfied: psutil in c:\\users\\ahmed\\anaconda3\\lib\\site-packages (from ultralytics) (5.9.0)\n",
      "Collecting torchvision>=0.9.0\n",
      "  Downloading torchvision-0.18.0-cp39-cp39-win_amd64.whl (1.2 MB)\n",
      "     ---------------------------------------- 1.2/1.2 MB 582.0 kB/s eta 0:00:00\n",
      "Requirement already satisfied: pandas>=1.1.4 in c:\\users\\ahmed\\anaconda3\\lib\\site-packages (from ultralytics) (1.4.4)\n",
      "Requirement already satisfied: seaborn>=0.11.0 in c:\\users\\ahmed\\anaconda3\\lib\\site-packages (from ultralytics) (0.11.2)\n",
      "Requirement already satisfied: requests>=2.23.0 in c:\\users\\ahmed\\anaconda3\\lib\\site-packages (from ultralytics) (2.28.1)\n",
      "Requirement already satisfied: tqdm>=4.64.0 in c:\\users\\ahmed\\anaconda3\\lib\\site-packages (from ultralytics) (4.64.1)\n",
      "Requirement already satisfied: scipy>=1.4.1 in c:\\users\\ahmed\\anaconda3\\lib\\site-packages (from ultralytics) (1.9.1)\n",
      "Requirement already satisfied: opencv-python>=4.6.0 in c:\\users\\ahmed\\anaconda3\\lib\\site-packages (from ultralytics) (4.9.0.80)\n",
      "Requirement already satisfied: pillow>=7.1.2 in c:\\users\\ahmed\\anaconda3\\lib\\site-packages (from ultralytics) (9.2.0)\n",
      "Requirement already satisfied: cycler>=0.10 in c:\\users\\ahmed\\anaconda3\\lib\\site-packages (from matplotlib>=3.3.0->ultralytics) (0.11.0)\n",
      "Requirement already satisfied: numpy>=1.17 in c:\\users\\ahmed\\anaconda3\\lib\\site-packages (from matplotlib>=3.3.0->ultralytics) (1.24.4)\n",
      "Requirement already satisfied: python-dateutil>=2.7 in c:\\users\\ahmed\\anaconda3\\lib\\site-packages (from matplotlib>=3.3.0->ultralytics) (2.8.2)\n",
      "Requirement already satisfied: kiwisolver>=1.0.1 in c:\\users\\ahmed\\anaconda3\\lib\\site-packages (from matplotlib>=3.3.0->ultralytics) (1.4.2)\n",
      "Requirement already satisfied: fonttools>=4.22.0 in c:\\users\\ahmed\\anaconda3\\lib\\site-packages (from matplotlib>=3.3.0->ultralytics) (4.25.0)\n",
      "Requirement already satisfied: packaging>=20.0 in c:\\users\\ahmed\\anaconda3\\lib\\site-packages (from matplotlib>=3.3.0->ultralytics) (21.3)\n",
      "Requirement already satisfied: pyparsing>=2.2.1 in c:\\users\\ahmed\\anaconda3\\lib\\site-packages (from matplotlib>=3.3.0->ultralytics) (3.0.9)\n",
      "Requirement already satisfied: pytz>=2020.1 in c:\\users\\ahmed\\anaconda3\\lib\\site-packages (from pandas>=1.1.4->ultralytics) (2022.1)\n",
      "Requirement already satisfied: idna<4,>=2.5 in c:\\users\\ahmed\\anaconda3\\lib\\site-packages (from requests>=2.23.0->ultralytics) (3.3)\n",
      "Requirement already satisfied: charset-normalizer<3,>=2 in c:\\users\\ahmed\\anaconda3\\lib\\site-packages (from requests>=2.23.0->ultralytics) (2.0.4)\n",
      "Requirement already satisfied: certifi>=2017.4.17 in c:\\users\\ahmed\\anaconda3\\lib\\site-packages (from requests>=2.23.0->ultralytics) (2022.9.14)\n",
      "Requirement already satisfied: urllib3<1.27,>=1.21.1 in c:\\users\\ahmed\\anaconda3\\lib\\site-packages (from requests>=2.23.0->ultralytics) (1.26.11)\n",
      "Requirement already satisfied: filelock in c:\\users\\ahmed\\anaconda3\\lib\\site-packages (from torch>=1.8.0->ultralytics) (3.6.0)\n",
      "Requirement already satisfied: sympy in c:\\users\\ahmed\\anaconda3\\lib\\site-packages (from torch>=1.8.0->ultralytics) (1.10.1)\n",
      "Requirement already satisfied: fsspec in c:\\users\\ahmed\\anaconda3\\lib\\site-packages (from torch>=1.8.0->ultralytics) (2022.7.1)\n",
      "Requirement already satisfied: jinja2 in c:\\users\\ahmed\\anaconda3\\lib\\site-packages (from torch>=1.8.0->ultralytics) (2.11.3)\n",
      "Collecting typing-extensions>=4.8.0\n",
      "  Downloading typing_extensions-4.11.0-py3-none-any.whl (34 kB)\n",
      "Requirement already satisfied: networkx in c:\\users\\ahmed\\anaconda3\\lib\\site-packages (from torch>=1.8.0->ultralytics) (2.8.4)\n",
      "Collecting mkl<=2021.4.0,>=2021.1.1\n",
      "  Downloading mkl-2021.4.0-py2.py3-none-win_amd64.whl (228.5 MB)\n",
      "     ------------------------------------ 228.5/228.5 MB 534.6 kB/s eta 0:00:00\n",
      "Requirement already satisfied: colorama in c:\\users\\ahmed\\anaconda3\\lib\\site-packages (from tqdm>=4.64.0->ultralytics) (0.4.5)\n",
      "Collecting tbb==2021.*\n",
      "  Downloading tbb-2021.12.0-py3-none-win_amd64.whl (286 kB)\n",
      "     ------------------------------------ 286.4/286.4 kB 767.1 kB/s eta 0:00:00\n",
      "Collecting intel-openmp==2021.*\n",
      "  Downloading intel_openmp-2021.4.0-py2.py3-none-win_amd64.whl (3.5 MB)\n",
      "     ---------------------------------------- 3.5/3.5 MB 847.0 kB/s eta 0:00:00\n",
      "Requirement already satisfied: six>=1.5 in c:\\users\\ahmed\\anaconda3\\lib\\site-packages (from python-dateutil>=2.7->matplotlib>=3.3.0->ultralytics) (1.16.0)\n",
      "Requirement already satisfied: MarkupSafe>=0.23 in c:\\users\\ahmed\\anaconda3\\lib\\site-packages (from jinja2->torch>=1.8.0->ultralytics) (2.0.1)\n",
      "Requirement already satisfied: mpmath>=0.19 in c:\\users\\ahmed\\anaconda3\\lib\\site-packages (from sympy->torch>=1.8.0->ultralytics) (1.2.1)\n",
      "Installing collected packages: tbb, py-cpuinfo, intel-openmp, typing-extensions, mkl, torch, torchvision, thop, ultralytics\n",
      "  Attempting uninstall: tbb\n",
      "    Found existing installation: TBB 0.2\n",
      "Note: you may need to restart the kernel to use updated packages.\n"
     ]
    },
    {
     "name": "stderr",
     "output_type": "stream",
     "text": [
      "ERROR: Cannot uninstall 'TBB'. It is a distutils installed project and thus we cannot accurately determine which files belong to it which would lead to only a partial uninstall.\n"
     ]
    }
   ],
   "source": [
    "pip install ultralytics"
   ]
  },
  {
   "cell_type": "code",
   "execution_count": 3,
   "id": "6c121235",
   "metadata": {},
   "outputs": [
    {
     "name": "stdout",
     "output_type": "stream",
     "text": [
      "Collecting ultralytics\n",
      "  Using cached ultralytics-8.2.6-py3-none-any.whl (755 kB)\n",
      "Requirement already satisfied: pillow>=7.1.2 in c:\\users\\ahmed\\anaconda3\\lib\\site-packages (from ultralytics) (9.2.0)\n",
      "Collecting thop>=0.1.1\n",
      "  Using cached thop-0.1.1.post2209072238-py3-none-any.whl (15 kB)\n",
      "Requirement already satisfied: opencv-python>=4.6.0 in c:\\users\\ahmed\\anaconda3\\lib\\site-packages (from ultralytics) (4.9.0.80)\n",
      "Requirement already satisfied: psutil in c:\\users\\ahmed\\anaconda3\\lib\\site-packages (from ultralytics) (5.9.0)\n",
      "Requirement already satisfied: seaborn>=0.11.0 in c:\\users\\ahmed\\anaconda3\\lib\\site-packages (from ultralytics) (0.11.2)\n",
      "Collecting torchvision>=0.9.0\n",
      "  Using cached torchvision-0.18.0-cp39-cp39-win_amd64.whl (1.2 MB)\n",
      "Collecting py-cpuinfo\n",
      "  Using cached py_cpuinfo-9.0.0-py3-none-any.whl (22 kB)\n",
      "Requirement already satisfied: matplotlib>=3.3.0 in c:\\users\\ahmed\\anaconda3\\lib\\site-packages (from ultralytics) (3.5.2)\n",
      "Requirement already satisfied: tqdm>=4.64.0 in c:\\users\\ahmed\\anaconda3\\lib\\site-packages (from ultralytics) (4.64.1)\n",
      "Requirement already satisfied: pandas>=1.1.4 in c:\\users\\ahmed\\anaconda3\\lib\\site-packages (from ultralytics) (1.4.4)\n",
      "Collecting torch>=1.8.0\n",
      "  Using cached torch-2.3.0-cp39-cp39-win_amd64.whl (159.7 MB)\n",
      "Requirement already satisfied: scipy>=1.4.1 in c:\\users\\ahmed\\anaconda3\\lib\\site-packages (from ultralytics) (1.9.1)\n",
      "Requirement already satisfied: pyyaml>=5.3.1 in c:\\users\\ahmed\\anaconda3\\lib\\site-packages (from ultralytics) (6.0)\n",
      "Requirement already satisfied: requests>=2.23.0 in c:\\users\\ahmed\\anaconda3\\lib\\site-packages (from ultralytics) (2.28.1)\n",
      "Requirement already satisfied: kiwisolver>=1.0.1 in c:\\users\\ahmed\\anaconda3\\lib\\site-packages (from matplotlib>=3.3.0->ultralytics) (1.4.2)\n",
      "Requirement already satisfied: pyparsing>=2.2.1 in c:\\users\\ahmed\\anaconda3\\lib\\site-packages (from matplotlib>=3.3.0->ultralytics) (3.0.9)\n",
      "Requirement already satisfied: packaging>=20.0 in c:\\users\\ahmed\\anaconda3\\lib\\site-packages (from matplotlib>=3.3.0->ultralytics) (21.3)\n",
      "Requirement already satisfied: python-dateutil>=2.7 in c:\\users\\ahmed\\anaconda3\\lib\\site-packages (from matplotlib>=3.3.0->ultralytics) (2.8.2)\n",
      "Requirement already satisfied: fonttools>=4.22.0 in c:\\users\\ahmed\\anaconda3\\lib\\site-packages (from matplotlib>=3.3.0->ultralytics) (4.25.0)\n",
      "Requirement already satisfied: cycler>=0.10 in c:\\users\\ahmed\\anaconda3\\lib\\site-packages (from matplotlib>=3.3.0->ultralytics) (0.11.0)\n",
      "Requirement already satisfied: numpy>=1.17 in c:\\users\\ahmed\\anaconda3\\lib\\site-packages (from matplotlib>=3.3.0->ultralytics) (1.24.4)\n",
      "Requirement already satisfied: pytz>=2020.1 in c:\\users\\ahmed\\anaconda3\\lib\\site-packages (from pandas>=1.1.4->ultralytics) (2022.1)\n",
      "Requirement already satisfied: idna<4,>=2.5 in c:\\users\\ahmed\\anaconda3\\lib\\site-packages (from requests>=2.23.0->ultralytics) (3.3)\n",
      "Requirement already satisfied: certifi>=2017.4.17 in c:\\users\\ahmed\\anaconda3\\lib\\site-packages (from requests>=2.23.0->ultralytics) (2022.9.14)\n",
      "Requirement already satisfied: charset-normalizer<3,>=2 in c:\\users\\ahmed\\anaconda3\\lib\\site-packages (from requests>=2.23.0->ultralytics) (2.0.4)\n",
      "Requirement already satisfied: urllib3<1.27,>=1.21.1 in c:\\users\\ahmed\\anaconda3\\lib\\site-packages (from requests>=2.23.0->ultralytics) (1.26.11)\n",
      "Requirement already satisfied: jinja2 in c:\\users\\ahmed\\anaconda3\\lib\\site-packages (from torch>=1.8.0->ultralytics) (2.11.3)\n",
      "Requirement already satisfied: networkx in c:\\users\\ahmed\\anaconda3\\lib\\site-packages (from torch>=1.8.0->ultralytics) (2.8.4)\n",
      "Requirement already satisfied: sympy in c:\\users\\ahmed\\anaconda3\\lib\\site-packages (from torch>=1.8.0->ultralytics) (1.10.1)\n",
      "Collecting typing-extensions>=4.8.0\n",
      "  Using cached typing_extensions-4.11.0-py3-none-any.whl (34 kB)\n",
      "Collecting mkl<=2021.4.0,>=2021.1.1\n",
      "  Using cached mkl-2021.4.0-py2.py3-none-win_amd64.whl (228.5 MB)\n",
      "Requirement already satisfied: filelock in c:\\users\\ahmed\\anaconda3\\lib\\site-packages (from torch>=1.8.0->ultralytics) (3.6.0)\n",
      "Requirement already satisfied: fsspec in c:\\users\\ahmed\\anaconda3\\lib\\site-packages (from torch>=1.8.0->ultralytics) (2022.7.1)\n",
      "Requirement already satisfied: colorama in c:\\users\\ahmed\\anaconda3\\lib\\site-packages (from tqdm>=4.64.0->ultralytics) (0.4.5)\n",
      "Collecting intel-openmp==2021.*\n",
      "  Using cached intel_openmp-2021.4.0-py2.py3-none-win_amd64.whl (3.5 MB)\n",
      "Collecting tbb==2021.*\n",
      "  Using cached tbb-2021.12.0-py3-none-win_amd64.whl (286 kB)\n",
      "Requirement already satisfied: six>=1.5 in c:\\users\\ahmed\\anaconda3\\lib\\site-packages (from python-dateutil>=2.7->matplotlib>=3.3.0->ultralytics) (1.16.0)\n",
      "Requirement already satisfied: MarkupSafe>=0.23 in c:\\users\\ahmed\\anaconda3\\lib\\site-packages (from jinja2->torch>=1.8.0->ultralytics) (2.0.1)\n",
      "Requirement already satisfied: mpmath>=0.19 in c:\\users\\ahmed\\anaconda3\\lib\\site-packages (from sympy->torch>=1.8.0->ultralytics) (1.2.1)\n",
      "Installing collected packages: tbb, py-cpuinfo, intel-openmp, typing-extensions, mkl, torch, torchvision, thop, ultralytics\n",
      "  Attempting uninstall: tbb\n",
      "    Found existing installation: TBB 0.2\n",
      "Note: you may need to restart the kernel to use updated packages.\n"
     ]
    },
    {
     "name": "stderr",
     "output_type": "stream",
     "text": [
      "ERROR: Cannot uninstall 'TBB'. It is a distutils installed project and thus we cannot accurately determine which files belong to it which would lead to only a partial uninstall.\n"
     ]
    }
   ],
   "source": [
    "%pip install ultralytics"
   ]
  },
  {
   "cell_type": "code",
   "execution_count": 2,
   "id": "62fe369d",
   "metadata": {},
   "outputs": [
    {
     "name": "stdout",
     "output_type": "stream",
     "text": [
      "Ultralytics YOLOv8.2.6  Python-3.11.3 torch-2.3.0+cpu CPU (Intel Core(TM) i3       M 330  2.13GHz)\n",
      "Model summary (fused): 168 layers, 3006233 parameters, 0 gradients, 8.1 GFLOPs\n",
      "\n",
      "\u001b[34m\u001b[1mPyTorch:\u001b[0m starting from 'C:\\Users\\AHMED\\Desktop\\YOLO Traffic detection\\traff.pt' with input shape (1, 3, 640, 640) BCHW and output shape(s) (1, 7, 8400) (6.0 MB)\n",
      "\n",
      "\u001b[34m\u001b[1mTensorFlow SavedModel:\u001b[0m starting export with tensorflow 2.13.1...\n",
      "\n",
      "\u001b[34m\u001b[1mONNX:\u001b[0m starting export with onnx 1.16.0 opset 17...\n",
      "\u001b[34m\u001b[1mONNX:\u001b[0m simplifying with onnxsim 0.4.36...\n",
      "\u001b[34m\u001b[1mONNX:\u001b[0m export success  9.3s, saved as 'C:\\Users\\AHMED\\Desktop\\YOLO Traffic detection\\traff.onnx' (11.7 MB)\n",
      "\u001b[34m\u001b[1mTensorFlow SavedModel:\u001b[0m starting TFLite export with onnx2tf 1.17.5...\n",
      "\u001b[34m\u001b[1mTensorFlow SavedModel:\u001b[0m export success  44.6s, saved as 'C:\\Users\\AHMED\\Desktop\\YOLO Traffic detection\\traff_saved_model' (29.5 MB)\n",
      "\n",
      "\u001b[34m\u001b[1mTensorFlow Lite:\u001b[0m starting export with tensorflow 2.13.1...\n",
      "\u001b[34m\u001b[1mTensorFlow Lite:\u001b[0m export success  0.0s, saved as 'C:\\Users\\AHMED\\Desktop\\YOLO Traffic detection\\traff_saved_model\\traff_float32.tflite' (11.7 MB)\n",
      "\n",
      "Export complete (54.7s)\n",
      "Results saved to \u001b[1mC:\\Users\\AHMED\\Desktop\\YOLO Traffic detection\u001b[0m\n",
      "Predict:         yolo predict task=detect model=C:\\Users\\AHMED\\Desktop\\YOLO Traffic detection\\traff_saved_model\\traff_float32.tflite imgsz=640  \n",
      "Validate:        yolo val task=detect model=C:\\Users\\AHMED\\Desktop\\YOLO Traffic detection\\traff_saved_model\\traff_float32.tflite imgsz=640 data=/kaggle/working/traffic-lights-3/data.yaml  \n",
      "Visualize:       https://netron.app\n"
     ]
    },
    {
     "data": {
      "text/plain": [
       "'C:\\\\Users\\\\AHMED\\\\Desktop\\\\YOLO Traffic detection\\\\traff_saved_model\\\\traff_float32.tflite'"
      ]
     },
     "execution_count": 2,
     "metadata": {},
     "output_type": "execute_result"
    }
   ],
   "source": [
    "from ultralytics import YOLO\n",
    "\n",
    "# Load a model\n",
    "model = YOLO('C:/Users/AHMED/Desktop/YOLO Traffic detection/traff.pt')  # load a custom trained model\n",
    "\n",
    "# Export the model\n",
    "model.export(format='tflite')"
   ]
  },
  {
   "cell_type": "code",
   "execution_count": 2,
   "id": "62cbb877",
   "metadata": {},
   "outputs": [
    {
     "name": "stdout",
     "output_type": "stream",
     "text": [
      "C:\\Users\\AHMED\\anaconda3\\python.exe\n"
     ]
    }
   ],
   "source": [
    "import sys\n",
    "print(sys.executable)"
   ]
  },
  {
   "cell_type": "code",
   "execution_count": 3,
   "id": "c50293a1",
   "metadata": {},
   "outputs": [
    {
     "name": "stderr",
     "output_type": "stream",
     "text": [
      "'which' is not recognized as an internal or external command,\n",
      "operable program or batch file.\n"
     ]
    }
   ],
   "source": [
    "!which -a python"
   ]
  },
  {
   "cell_type": "code",
   "execution_count": 5,
   "id": "5511dbf7",
   "metadata": {},
   "outputs": [
    {
     "ename": "SyntaxError",
     "evalue": "invalid syntax (3338467714.py, line 1)",
     "output_type": "error",
     "traceback": [
      "\u001b[1;36m  File \u001b[1;32m\"C:\\Users\\AHMED\\AppData\\Local\\Temp\\ipykernel_4184\\3338467714.py\"\u001b[1;36m, line \u001b[1;32m1\u001b[0m\n\u001b[1;33m    ~/.conda/envs/{myenv}/bin/python\u001b[0m\n\u001b[1;37m     ^\u001b[0m\n\u001b[1;31mSyntaxError\u001b[0m\u001b[1;31m:\u001b[0m invalid syntax\n"
     ]
    }
   ],
   "source": [
    "~/.conda/envs/{myenv}/bin/python"
   ]
  },
  {
   "cell_type": "code",
   "execution_count": 4,
   "id": "f1362d58",
   "metadata": {},
   "outputs": [
    {
     "name": "stdout",
     "output_type": "stream",
     "text": [
      "Requirement already satisfied: onnx in c:\\users\\ahmed\\anaconda3\\lib\\site-packages (1.16.0)Note: you may need to restart the kernel to use updated packages.\n"
     ]
    },
    {
     "name": "stderr",
     "output_type": "stream",
     "text": [
      "WARNING: Ignoring invalid distribution -rotobuf (c:\\users\\ahmed\\anaconda3\\lib\\site-packages)\n",
      "WARNING: Ignoring invalid distribution -rotobuf (c:\\users\\ahmed\\anaconda3\\lib\\site-packages)\n",
      "WARNING: Ignoring invalid distribution -rotobuf (c:\\users\\ahmed\\anaconda3\\lib\\site-packages)\n",
      "WARNING: Ignoring invalid distribution -rotobuf (c:\\users\\ahmed\\anaconda3\\lib\\site-packages)\n",
      "WARNING: Ignoring invalid distribution -rotobuf (c:\\users\\ahmed\\anaconda3\\lib\\site-packages)\n",
      "WARNING: Ignoring invalid distribution -rotobuf (c:\\users\\ahmed\\anaconda3\\lib\\site-packages)\n"
     ]
    },
    {
     "name": "stdout",
     "output_type": "stream",
     "text": [
      "\n",
      "Requirement already satisfied: protobuf>=3.20.2 in c:\\users\\ahmed\\anaconda3\\lib\\site-packages (from onnx) (3.20.3)\n",
      "Requirement already satisfied: numpy>=1.20 in c:\\users\\ahmed\\anaconda3\\lib\\site-packages (from onnx) (1.24.4)\n"
     ]
    }
   ],
   "source": [
    "pip install onnx"
   ]
  },
  {
   "cell_type": "code",
   "execution_count": 5,
   "id": "4a21cdaf",
   "metadata": {},
   "outputs": [
    {
     "name": "stdout",
     "output_type": "stream",
     "text": [
      "Collecting tf2onnx\n",
      "  Using cached tf2onnx-1.16.1-py3-none-any.whl (455 kB)\n",
      "Requirement already satisfied: requests in c:\\users\\ahmed\\anaconda3\\lib\\site-packages (from tf2onnx) (2.28.1)\n",
      "Requirement already satisfied: numpy>=1.14.1 in c:\\users\\ahmed\\anaconda3\\lib\\site-packages (from tf2onnx) (1.24.4)\n",
      "Requirement already satisfied: protobuf~=3.20 in c:\\users\\ahmed\\anaconda3\\lib\\site-packages (from tf2onnx) (3.20.3)\n",
      "Requirement already satisfied: flatbuffers>=1.12 in c:\\users\\ahmed\\anaconda3\\lib\\site-packages (from tf2onnx) (23.5.26)\n",
      "Requirement already satisfied: six in c:\\users\\ahmed\\anaconda3\\lib\\site-packages (from tf2onnx) (1.16.0)\n",
      "Requirement already satisfied: onnx>=1.4.1 in c:\\users\\ahmed\\anaconda3\\lib\\site-packages (from tf2onnx) (1.16.0)\n",
      "Requirement already satisfied: certifi>=2017.4.17 in c:\\users\\ahmed\\anaconda3\\lib\\site-packages (from requests->tf2onnx) (2022.9.14)\n",
      "Requirement already satisfied: idna<4,>=2.5 in c:\\users\\ahmed\\anaconda3\\lib\\site-packages (from requests->tf2onnx) (3.3)\n",
      "Requirement already satisfied: charset-normalizer<3,>=2 in c:\\users\\ahmed\\anaconda3\\lib\\site-packages (from requests->tf2onnx) (2.0.4)\n",
      "Requirement already satisfied: urllib3<1.27,>=1.21.1 in c:\\users\\ahmed\\anaconda3\\lib\\site-packages (from requests->tf2onnx) (1.26.11)\n",
      "Installing collected packages: tf2onnx\n",
      "Successfully installed tf2onnx-1.16.1\n",
      "Note: you may need to restart the kernel to use updated packages.\n"
     ]
    },
    {
     "name": "stderr",
     "output_type": "stream",
     "text": [
      "WARNING: Ignoring invalid distribution -rotobuf (c:\\users\\ahmed\\anaconda3\\lib\\site-packages)\n",
      "WARNING: Ignoring invalid distribution -rotobuf (c:\\users\\ahmed\\anaconda3\\lib\\site-packages)\n",
      "WARNING: Ignoring invalid distribution -rotobuf (c:\\users\\ahmed\\anaconda3\\lib\\site-packages)\n",
      "WARNING: Ignoring invalid distribution -rotobuf (c:\\users\\ahmed\\anaconda3\\lib\\site-packages)\n",
      "WARNING: Ignoring invalid distribution -rotobuf (c:\\users\\ahmed\\anaconda3\\lib\\site-packages)\n",
      "WARNING: Ignoring invalid distribution -rotobuf (c:\\users\\ahmed\\anaconda3\\lib\\site-packages)\n",
      "WARNING: Ignoring invalid distribution -rotobuf (c:\\users\\ahmed\\anaconda3\\lib\\site-packages)\n"
     ]
    }
   ],
   "source": [
    "pip install tf2onnx"
   ]
  },
  {
   "cell_type": "code",
   "execution_count": 6,
   "id": "f8e97bb9",
   "metadata": {},
   "outputs": [],
   "source": [
    "import onnx\n",
    "\n",
    "# Load the ONNX model\n",
    "onnx_model = onnx.load('C:/Users/AHMED/Desktop/YOLO Traffic detection/traff.onnx')"
   ]
  },
  {
   "cell_type": "code",
   "execution_count": 7,
   "id": "c43e6a3f",
   "metadata": {},
   "outputs": [
    {
     "ename": "AttributeError",
     "evalue": "module 'tf2onnx.convert' has no attribute 'from_model'",
     "output_type": "error",
     "traceback": [
      "\u001b[1;31m---------------------------------------------------------------------------\u001b[0m",
      "\u001b[1;31mAttributeError\u001b[0m                            Traceback (most recent call last)",
      "\u001b[1;32m~\\AppData\\Local\\Temp\\ipykernel_10492\\4201658539.py\u001b[0m in \u001b[0;36m<module>\u001b[1;34m\u001b[0m\n\u001b[0;32m      2\u001b[0m \u001b[1;33m\u001b[0m\u001b[0m\n\u001b[0;32m      3\u001b[0m \u001b[1;31m# Convert the ONNX model to TensorFlow\u001b[0m\u001b[1;33m\u001b[0m\u001b[1;33m\u001b[0m\u001b[0m\n\u001b[1;32m----> 4\u001b[1;33m \u001b[0mtf_model\u001b[0m\u001b[1;33m,\u001b[0m \u001b[0m_\u001b[0m \u001b[1;33m=\u001b[0m \u001b[0mtf2onnx\u001b[0m\u001b[1;33m.\u001b[0m\u001b[0mconvert\u001b[0m\u001b[1;33m.\u001b[0m\u001b[0mfrom_model\u001b[0m\u001b[1;33m(\u001b[0m\u001b[0monnx_model\u001b[0m\u001b[1;33m)\u001b[0m\u001b[1;33m\u001b[0m\u001b[1;33m\u001b[0m\u001b[0m\n\u001b[0m",
      "\u001b[1;31mAttributeError\u001b[0m: module 'tf2onnx.convert' has no attribute 'from_model'"
     ]
    }
   ],
   "source": [
    "import tf2onnx\n",
    "\n",
    "# Convert the ONNX model to TensorFlow\n",
    "tf_model, _ = tf2onnx.convert.from_model(onnx_model)"
   ]
  },
  {
   "cell_type": "code",
   "execution_count": null,
   "id": "07d51627",
   "metadata": {},
   "outputs": [],
   "source": []
  }
 ],
 "metadata": {
  "kernelspec": {
   "display_name": "Python 3 (ipykernel)",
   "language": "python",
   "name": "python3"
  },
  "language_info": {
   "codemirror_mode": {
    "name": "ipython",
    "version": 3
   },
   "file_extension": ".py",
   "mimetype": "text/x-python",
   "name": "python",
   "nbconvert_exporter": "python",
   "pygments_lexer": "ipython3",
   "version": "3.11.3"
  }
 },
 "nbformat": 4,
 "nbformat_minor": 5
}
